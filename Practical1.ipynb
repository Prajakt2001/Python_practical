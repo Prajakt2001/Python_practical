{
 "cells": [
  {
   "cell_type": "markdown",
   "id": "1ac10fb8",
   "metadata": {},
   "source": [
    "# SET A"
   ]
  },
  {
   "cell_type": "code",
   "execution_count": null,
   "id": "c63a92c8",
   "metadata": {},
   "outputs": [],
   "source": [
    "#1. Python Program to Calculate the Area of a Triangle \n",
    "a = float(input('Enter first side: '))  \n",
    "b = float(input('Enter second side: '))  \n",
    "c = float(input('Enter third side: ')) \n",
    "s = (a + b + c) / 2 \n",
    "area = (s*(s-a)*(s-b)*(s-c)) ** 0.5  \n",
    "print('The area of the triangle is %0.2f' %area)\n"
   ]
  },
  {
   "cell_type": "code",
   "execution_count": null,
   "id": "d5d00878",
   "metadata": {},
   "outputs": [],
   "source": [
    "#2Python Program to Swap Two Variables \n",
    "x = float(input('Enter value of X: ')) \n",
    "y = float(input('Enter value of Y: ')) \n",
    "temp = x\n",
    "x = y\n",
    "y = temp\n",
    "\n",
    "print(\"Value of x:\", x)\n",
    "print(\"Value of y:\", y)"
   ]
  },
  {
   "cell_type": "code",
   "execution_count": null,
   "id": "d40ed50f",
   "metadata": {},
   "outputs": [],
   "source": [
    "#.3 Python Program to Generate a Random Number \n",
    "import random  \n",
    "n = random.randint(0,50)  \n",
    "print(n) "
   ]
  },
  {
   "cell_type": "markdown",
   "id": "52c04e8a",
   "metadata": {},
   "source": [
    "# SET B"
   ]
  },
  {
   "cell_type": "code",
   "execution_count": null,
   "id": "275995aa",
   "metadata": {},
   "outputs": [],
   "source": [
    "#1.Write a Python Program to Check if a Number is Positive, Negative or Zero \n",
    "num = float(input(\"Enter a number: \"))\n",
    "if num >= 0:\n",
    "   if num == 0:\n",
    "       print(\"Zero\")\n",
    "   else:\n",
    "       print(\"Positive number\")\n",
    "else:\n",
    "   print(\"Negative number\")\n"
   ]
  },
  {
   "cell_type": "code",
   "execution_count": null,
   "id": "ca98d313",
   "metadata": {},
   "outputs": [],
   "source": [
    "#2.Write a Python Program to Check if a Number is Odd or Even \n",
    "\n",
    "num = int(input(\"Enter a number: \"))\n",
    "if (num % 2) == 0:\n",
    "   print(\"{0} is Even\".format(num))\n",
    "else:\n",
    "   print(\"{0} is Odd\".format(num))"
   ]
  },
  {
   "cell_type": "code",
   "execution_count": null,
   "id": "b226903a",
   "metadata": {},
   "outputs": [],
   "source": [
    "#3.Write a Python Program to Check Prime Number \n",
    "num = int(input(\"Enter a number: \"))\n",
    "flag = False\n",
    "if num > 1:\n",
    "    for i in range(2, num):\n",
    "        if (num % i) == 0:\n",
    "            flag = True       \n",
    "            break\n",
    "if flag:\n",
    " print(num, \"is not a prime number\")\n",
    "else:\n",
    " print(num, \"is a prime number\")"
   ]
  },
  {
   "cell_type": "code",
   "execution_count": null,
   "id": "277d2d39",
   "metadata": {},
   "outputs": [],
   "source": [
    "#4.Write a Python Program to Check Armstrong Number \n",
    "num = int(input(\"Enter a number: \"))\n",
    "sum = 0\n",
    "temp = num\n",
    "while temp > 0:\n",
    "   digit = temp % 10\n",
    "   sum += digit ** 3\n",
    "   temp //= 10\n",
    "if num == sum:\n",
    "   print(num,\"is an Armstrong number\")\n",
    "else:\n",
    "   print(num,\"is not an Armstrong number\")\n"
   ]
  },
  {
   "cell_type": "code",
   "execution_count": null,
   "id": "fe6f49fa",
   "metadata": {},
   "outputs": [],
   "source": [
    "#5.Write a Python Program to Find the Factorial of a Number \n",
    "num = int(input(\"Enter a number: \"))\n",
    "\n",
    "factorial = 1\n",
    "if num < 0:\n",
    "   print(\"Sorry, factorial does not exist for negative numbers\")\n",
    "elif num == 0:\n",
    "   print(\"The factorial of 0 is 1\")\n",
    "else:\n",
    "   for i in range(1,num + 1):\n",
    "       factorial = factorial*i\n",
    "   print(\"The factorial of\",num,\"is\",factorial)\n"
   ]
  },
  {
   "cell_type": "markdown",
   "id": "08d0b865",
   "metadata": {},
   "source": [
    "# PROGRAMS FOR PRACTICE:"
   ]
  },
  {
   "cell_type": "code",
   "execution_count": null,
   "id": "7a79d117",
   "metadata": {},
   "outputs": [],
   "source": [
    "#1. Python Program to Convert Kilometers to Miles \n",
    "kilometers = float(input(\"Enter value in kilometers: \"))\n",
    "conv_fac = 0.621371\n",
    "miles = kilometers * conv_fac\n",
    "print('%0.2f kilometers is equal to %0.2f miles' %(kilometers,miles))\n"
   ]
  },
  {
   "cell_type": "code",
   "execution_count": null,
   "id": "df51296d",
   "metadata": {},
   "outputs": [],
   "source": [
    "#2.Python Program to Convert Celsius To Fahrenheit \n",
    "celsius = float(input(\"Enter value in celsius: \"))\n",
    "fahrenheit = (celsius * 1.8) + 32\n",
    "print('%0.1f degree Celsius is equal to %0.1f degree Fahrenheit' %(celsius,fahrenheit))\n"
   ]
  },
  {
   "cell_type": "code",
   "execution_count": null,
   "id": "a1fd0401",
   "metadata": {},
   "outputs": [],
   "source": [
    "#3.Write a Python Program to Check Leap Year \n",
    "year = int(input(\"Enter a year: \"))\n",
    "if (year % 400 == 0) and (year % 100 == 0):\n",
    "    print(\"{0} is a leap year\".format(year))\n",
    "elif (year % 4 ==0) and (year % 100 != 0):\n",
    "    print(\"{0} is a leap year\".format(year))\n",
    "else:\n",
    "    print(\"{0} is not a leap year\".format(year))"
   ]
  },
  {
   "cell_type": "code",
   "execution_count": null,
   "id": "57ff31ef",
   "metadata": {},
   "outputs": [],
   "source": [
    "#4.Write a Python Program to Print all Prime Numbers in an Interval \n",
    "lower = int(input(\"Enter the lower number:\"))\n",
    "upper = int(input(\"Enter the upper number: \"))\n",
    "print(\"Prime numbers between\", lower, \"and\", upper, \"are:\")\n",
    "for num in range(lower, upper + 1):\n",
    "     if num > 1:\n",
    "       for i in range(2, num):\n",
    "           if (num % i) == 0:\n",
    "               break\n",
    "       else:\n",
    "           print(num)"
   ]
  },
  {
   "cell_type": "code",
   "execution_count": null,
   "id": "f142886c",
   "metadata": {},
   "outputs": [],
   "source": [
    "#5.Write a Python Program to Print the Fibonacci sequence \n",
    "n_terms = int(input (\"How many terms the user wants to print? \"))  \n",
    "n_1 = 0  \n",
    "n_2 = 1  \n",
    "count = 0  \n",
    "if n_terms <= 0:  \n",
    "    print (\"Please enter a positive integer, the given number is not valid\")  \n",
    "elif n_terms == 1:  \n",
    "    print (\"The Fibonacci sequence of the numbers up to\", n_terms, \": \")  \n",
    "    print(n_1)  \n",
    "else:  \n",
    "    print (\"The fibonacci sequence of the numbers is:\")  \n",
    "    while count < n_terms:  \n",
    "        print(n_1)  \n",
    "        nth = n_1 + n_2  \n",
    "        n_1 = n_2  \n",
    "        n_2 = nth  \n",
    "        count += 1  "
   ]
  },
  {
   "cell_type": "code",
   "execution_count": null,
   "id": "cfba9c8e",
   "metadata": {},
   "outputs": [],
   "source": [
    "#6.Write a Python Program to Find Armstrong Number in an Interval \n",
    "lower = int(input(\"Enter the lower number:\"))\n",
    "upper = int(input(\"Enter the upper number:\"))\n",
    "\n",
    "for num in range(lower, upper + 1):\n",
    "\n",
    "   # order of number\n",
    "   order = len(str(num))\n",
    "    \n",
    "   # initialize sum\n",
    "   sum = 0\n",
    "\n",
    "   temp = num\n",
    "   while temp > 0:\n",
    "       digit = temp % 10\n",
    "       sum += digit ** order\n",
    "       temp //= 10\n",
    "\n",
    "   if num == sum:\n",
    "       print(num)\n"
   ]
  },
  {
   "cell_type": "code",
   "execution_count": null,
   "id": "b0266aa3",
   "metadata": {},
   "outputs": [],
   "source": [
    "#7.Write a Python Program to Find the Sum of Natural Numbers \n",
    "num = int(input(\"Enter the number:\"))\n",
    "\n",
    "if num < 0:\n",
    "   print(\"Enter a positive number\")\n",
    "else:\n",
    "   sum = 0\n",
    "   # use while loop to iterate until zero\n",
    "   while(num > 0):\n",
    "       sum += num\n",
    "       num -= 1\n",
    "   print(\"The sum is\", sum)\n"
   ]
  },
  {
   "cell_type": "code",
   "execution_count": null,
   "id": "23b6d731",
   "metadata": {},
   "outputs": [],
   "source": []
  }
 ],
 "metadata": {
  "kernelspec": {
   "display_name": "Python 3 (ipykernel)",
   "language": "python",
   "name": "python3"
  },
  "language_info": {
   "codemirror_mode": {
    "name": "ipython",
    "version": 3
   },
   "file_extension": ".py",
   "mimetype": "text/x-python",
   "name": "python",
   "nbconvert_exporter": "python",
   "pygments_lexer": "ipython3",
   "version": "3.9.7"
  }
 },
 "nbformat": 4,
 "nbformat_minor": 5
}
